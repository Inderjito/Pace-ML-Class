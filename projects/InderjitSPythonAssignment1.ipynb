{
 "cells": [
  {
   "cell_type": "markdown",
   "id": "7d48ff1c",
   "metadata": {},
   "source": [
    "# Name: Sunita Inderjit\n",
    "## Session: CS 672 Fall 2023 72385 \n",
    "## CRN : 72385\n"
   ]
  },
  {
   "cell_type": "markdown",
   "id": "be454f25",
   "metadata": {},
   "source": [
    "**Question#1**\n",
    "\n",
    "**Points:10**\n",
    "\n",
    "Write a brief description of all the following Object Types. To write the answers in below cell by double clicking on it.\n",
    "\n",
    "- Numbers: Can be various type such as integer. float, complex number\n",
    "- Strings: Sequence of character enclosed within single or double quotes, string are immutable\n",
    "- Lists: Ordered colection of time can be number, string and enclosed in square braclet,and mutable\n",
    "- Tuples: similar to string but enclosed on () and immutable\n",
    "- Dictionaries: are unordered collection of key -value pair enclosed in curly braclet. Key must be unique, dictionary are mutable."
   ]
  },
  {
   "cell_type": "markdown",
   "id": "61937857",
   "metadata": {},
   "source": [
    "**Question#2**\n",
    "\n",
    "**Points:5**\n",
    "\n",
    "**Numbers**"
   ]
  },
  {
   "cell_type": "code",
   "execution_count": 5,
   "id": "b6974c81",
   "metadata": {},
   "outputs": [
    {
     "name": "stdout",
     "output_type": "stream",
     "text": [
      "334\n",
      "46.900000000000006\n"
     ]
    }
   ],
   "source": [
    "# example of numbers\n",
    "\n",
    "print(100+234)\n",
    "print(2.345 * 20)"
   ]
  },
  {
   "cell_type": "code",
   "execution_count": 6,
   "id": "c935682b",
   "metadata": {},
   "outputs": [
    {
     "name": "stdout",
     "output_type": "stream",
     "text": [
      "44\n",
      "29\n",
      "34\n"
     ]
    }
   ],
   "source": [
    "#Answer these 3 questions type code to check your answer. In the below code cell.\n",
    "\n",
    "    #What is the value of the expression 4 * (6 + 5)\n",
    "    \n",
    "    #What is the value of the expression 4 * 6 + 5 \n",
    "    \n",
    "    #What is the value of the expression 4 + 6 * 5 \n",
    "    \n",
    "# Answer\n",
    "\n",
    "print(4*(6+5))\n",
    "print(4*6+5)\n",
    "print(4+6*5)\n",
    "    \n",
    "    "
   ]
  },
  {
   "cell_type": "markdown",
   "id": "632bf69b",
   "metadata": {},
   "source": [
    "**Question#3**\n",
    "\n",
    "**Points:10**\n",
    "\n",
    "**Strings**"
   ]
  },
  {
   "cell_type": "markdown",
   "id": "f74eb3bb",
   "metadata": {},
   "source": []
  },
  {
   "cell_type": "code",
   "execution_count": 9,
   "id": "15ecc31a",
   "metadata": {},
   "outputs": [
    {
     "data": {
      "text/plain": [
       "'m'"
      ]
     },
     "execution_count": 9,
     "metadata": {},
     "output_type": "execute_result"
    }
   ],
   "source": [
    "s = 'Python Programming'\n",
    "# Print out 'm' using indexing\n",
    "\n",
    "s[13]"
   ]
  },
  {
   "cell_type": "code",
   "execution_count": 10,
   "id": "bd79d3d4",
   "metadata": {},
   "outputs": [
    {
     "data": {
      "text/plain": [
       "'g'"
      ]
     },
     "execution_count": 10,
     "metadata": {},
     "output_type": "execute_result"
    }
   ],
   "source": [
    "s ='Python Programming'\n",
    "# Reverse the string using slicing\n",
    "\n",
    "s[-1]"
   ]
  },
  {
   "cell_type": "code",
   "execution_count": null,
   "id": "47537117",
   "metadata": {},
   "outputs": [],
   "source": [
    "s ='Python Programming'\n",
    "# Print out the 'i'\n",
    "\n",
    "# Method 1:\n",
    "\n"
   ]
  },
  {
   "cell_type": "markdown",
   "id": "e545e090",
   "metadata": {},
   "source": [
    "Given the string \"Python Programming\", give two methods of producing the letter 'i' using indexing."
   ]
  },
  {
   "cell_type": "code",
   "execution_count": 12,
   "id": "38270b6b",
   "metadata": {},
   "outputs": [
    {
     "data": {
      "text/plain": [
       "'i'"
      ]
     },
     "execution_count": 12,
     "metadata": {},
     "output_type": "execute_result"
    }
   ],
   "source": [
    "s ='Python Programming'\n",
    "# Print out the 'i'\n",
    "\n",
    "# Method 1:\n",
    "\n",
    "s[15]"
   ]
  },
  {
   "cell_type": "code",
   "execution_count": 14,
   "id": "3fa1a383",
   "metadata": {},
   "outputs": [
    {
     "data": {
      "text/plain": [
       "'i'"
      ]
     },
     "execution_count": 14,
     "metadata": {},
     "output_type": "execute_result"
    }
   ],
   "source": [
    "# Method 2\n",
    "s[-3]"
   ]
  },
  {
   "cell_type": "markdown",
   "id": "87043e96",
   "metadata": {},
   "source": [
    "**Question#4**\n",
    "\n",
    "**Points:10**\n",
    "\n",
    "**Lists**"
   ]
  },
  {
   "cell_type": "markdown",
   "id": "cec4a465",
   "metadata": {},
   "source": [
    "Build this list [0,0,0] two separate ways."
   ]
  },
  {
   "cell_type": "code",
   "execution_count": 17,
   "id": "fb116ad1",
   "metadata": {},
   "outputs": [
    {
     "name": "stdout",
     "output_type": "stream",
     "text": [
      "[0, 0, 0]\n",
      "[0, 0, 0]\n"
     ]
    }
   ],
   "source": [
    "\n",
    "# method 1\n",
    "my_list1 = [0, 0, 0]\n",
    "\n",
    "#method 2\n",
    "\n",
    "my_list2 = [0] * 3\n",
    "\n",
    "print(my_list1)\n",
    "print(my_list2)"
   ]
  },
  {
   "cell_type": "markdown",
   "id": "0648e75c",
   "metadata": {},
   "source": [
    "Reassign 'hello' in this nested list to say 'goodbye' instead:"
   ]
  },
  {
   "cell_type": "code",
   "execution_count": 6,
   "id": "7f6e389b",
   "metadata": {},
   "outputs": [
    {
     "name": "stdout",
     "output_type": "stream",
     "text": [
      "[1, 2, [3, 4, 'goodbye']]\n"
     ]
    }
   ],
   "source": [
    "list3 = [1,2,[3,4,'hello']]\n",
    "\n",
    "list3[2][2]='goodbye'\n",
    "\n",
    "print(list3)"
   ]
  },
  {
   "cell_type": "code",
   "execution_count": null,
   "id": "37ffa49b",
   "metadata": {},
   "outputs": [],
   "source": [
    "Sort the list below:"
   ]
  },
  {
   "cell_type": "code",
   "execution_count": 11,
   "id": "edfcb655",
   "metadata": {},
   "outputs": [
    {
     "data": {
      "text/plain": [
       "[1, 3, 4, 5, 6]"
      ]
     },
     "execution_count": 11,
     "metadata": {},
     "output_type": "execute_result"
    }
   ],
   "source": [
    "list4 = [5,3,4,6,1]\n",
    "\n",
    "list4.sort()\n",
    "\n",
    "list4"
   ]
  },
  {
   "cell_type": "markdown",
   "id": "e69cb139",
   "metadata": {},
   "source": [
    "**Questions # 5\n",
    "**Dictionary"
   ]
  },
  {
   "cell_type": "markdown",
   "id": "f4837866",
   "metadata": {},
   "source": [
    "### Using keys and indexing, grab the 'Python' from the following dictionaries:\n",
    "\n",
    "\n"
   ]
  },
  {
   "cell_type": "code",
   "execution_count": 15,
   "id": "cfda645d",
   "metadata": {},
   "outputs": [
    {
     "data": {
      "text/plain": [
       "'Python'"
      ]
     },
     "execution_count": 15,
     "metadata": {},
     "output_type": "execute_result"
    }
   ],
   "source": [
    "d = {'simple_key':'Python'}\n",
    "# Grab 'Python'\n",
    "\n",
    "d['simple_key']"
   ]
  },
  {
   "cell_type": "code",
   "execution_count": 21,
   "id": "e6d236c5",
   "metadata": {},
   "outputs": [
    {
     "data": {
      "text/plain": [
       "'programming'"
      ]
     },
     "execution_count": 21,
     "metadata": {},
     "output_type": "execute_result"
    }
   ],
   "source": [
    "d = {'k1':{'k2':'Programming'}}\n",
    "# Grab 'Programming'\n",
    "\n",
    "d['k1']['k2'].lower()"
   ]
  },
  {
   "cell_type": "code",
   "execution_count": 22,
   "id": "b1cb62a8",
   "metadata": {},
   "outputs": [
    {
     "data": {
      "text/plain": [
       "'Python'"
      ]
     },
     "execution_count": 22,
     "metadata": {},
     "output_type": "execute_result"
    }
   ],
   "source": [
    "# Getting a little tricker\n",
    "d = {'k1':[{'nest_key':['this is CS632',['Python']]}]}\n",
    "\n",
    "#Grab Python\n",
    "d['k1'][0]['nest_key'][1][0]"
   ]
  },
  {
   "cell_type": "code",
   "execution_count": 24,
   "id": "f47b265a",
   "metadata": {},
   "outputs": [
    {
     "data": {
      "text/plain": [
       "'hello'"
      ]
     },
     "execution_count": 24,
     "metadata": {},
     "output_type": "execute_result"
    }
   ],
   "source": [
    "# This will be hard and annoying!\n",
    "d = {'k1':[1,2,{'k2':['this is tricky',{'tough':[1,2,['hello']]}]}]}\n",
    "\n",
    "d['k1'][2]['k2'][1]['tough'][2][0]"
   ]
  },
  {
   "cell_type": "markdown",
   "id": "553594ed",
   "metadata": {},
   "source": [
    "### Is sorting a dictionary possible? Why or why not?\n",
    "\n",
    "- yes , sorting a dictionary is possible\n",
    "\n",
    "- python 3.7 an later; Dictionary is ordered collections, meaning they maintain the order\n",
    "- you can sort dictionary base on key or values\n",
    "\n",
    "- python 3.6 and earlier\n",
    "- dictionary was unordered collectiones, does not maintain order of item and could not be sorted directly\n",
    "- however, you need to use sorted to sort key or values  and create new order collection."
   ]
  },
  {
   "cell_type": "markdown",
   "id": "d570f081",
   "metadata": {},
   "source": [
    "**Question#6**\n",
    "\n",
    "**Points: 5**\n",
    "\n",
    "**Tuples**"
   ]
  },
  {
   "cell_type": "markdown",
   "id": "ffa6dc0d",
   "metadata": {},
   "source": [
    "What is the major difference between tuples and lists?\n",
    "#### Tuples: imutable\n",
    "### List is mutable\n",
    "\n",
    "**how to create a tuple\n",
    "\n",
    "**example of tuple\n"
   ]
  },
  {
   "cell_type": "code",
   "execution_count": 25,
   "id": "44fc341f",
   "metadata": {},
   "outputs": [
    {
     "data": {
      "text/plain": [
       "(1, 'hello', 3, 4, True)"
      ]
     },
     "execution_count": 25,
     "metadata": {},
     "output_type": "execute_result"
    }
   ],
   "source": [
    "# example of tuples\n",
    "\n",
    "my_tuple =(1,'hello',3,4, True)\n",
    "\n",
    "my_tuple"
   ]
  },
  {
   "cell_type": "markdown",
   "id": "493d5fe5",
   "metadata": {},
   "source": [
    "**Question#7**\n",
    "\n",
    "**Points:5**\n",
    "\n",
    "**Sets**"
   ]
  },
  {
   "cell_type": "markdown",
   "id": "28d74f66",
   "metadata": {},
   "source": [
    "**What is unique about a set?\n",
    "- An unordered collection data type taht is iterable and mutable, has no duplicate elements\n",
    "\n",
    "- no Duplicate elements\n",
    "- unordered collection\n",
    "- mutable\n",
    "- set operation"
   ]
  },
  {
   "cell_type": "code",
   "execution_count": null,
   "id": "0480a8a0",
   "metadata": {},
   "outputs": [],
   "source": [
    "# Use a set to find the unique values of the list below:"
   ]
  },
  {
   "cell_type": "code",
   "execution_count": 29,
   "id": "f302d657",
   "metadata": {},
   "outputs": [
    {
     "data": {
      "text/plain": [
       "{1, 2, 3, 4, 11, 22, 33}"
      ]
     },
     "execution_count": 29,
     "metadata": {},
     "output_type": "execute_result"
    }
   ],
   "source": [
    "list5 = [1,2,2,33,4,4,11,22,3,3,2]\n",
    "\n",
    "set(list5)\n"
   ]
  },
  {
   "cell_type": "markdown",
   "id": "e546d499",
   "metadata": {},
   "source": [
    "**Questions#8**\n",
    "\n",
    "**Points:5**\n",
    "\n",
    "**Booleans**\n",
    "\n",
    "[link text](https://)What will be the resulting Boolean of the following pieces of code (answer fist then check by typing it in!)\n"
   ]
  },
  {
   "cell_type": "code",
   "execution_count": 33,
   "id": "967b4abd",
   "metadata": {},
   "outputs": [
    {
     "data": {
      "text/plain": [
       "False"
      ]
     },
     "execution_count": 33,
     "metadata": {},
     "output_type": "execute_result"
    }
   ],
   "source": [
    "# What the outcome?\n",
    "2 > 3"
   ]
  },
  {
   "cell_type": "markdown",
   "id": "94b363bb",
   "metadata": {},
   "source": [
    "**Question#9**\n",
    "\n",
    "**Points:10**\n",
    "\n",
    "**Use <code>for</code>, .split(), and <code>if</code> to create a Statement that will print out words that start with 's':**"
   ]
  },
  {
   "cell_type": "code",
   "execution_count": 37,
   "id": "55deda8d",
   "metadata": {},
   "outputs": [
    {
     "name": "stdout",
     "output_type": "stream",
     "text": [
      "start\n",
      "s\n",
      "sentence\n"
     ]
    }
   ],
   "source": [
    "# use for, split() and if to create a statement that will print out words that start with \"s\"\n",
    "\n",
    "st = 'Print only the words that start with s in this sentence'\n",
    "\n",
    "\n",
    "# split string into words\n",
    "\n",
    "words = st.split()\n",
    "    \n",
    "# iterate through the words\n",
    "for word in words:\n",
    "    \n",
    "    #check if hte  words start with 's'\n",
    "    if word[0].lower() == 's':\n",
    "        print(word)"
   ]
  },
  {
   "cell_type": "markdown",
   "id": "40c1e2c7",
   "metadata": {},
   "source": [
    "**Question#10**\n",
    "\n",
    "**Points:10**\n",
    "\n",
    "**Use range() to print all the even numbers from 0 to 10.**"
   ]
  },
  {
   "cell_type": "code",
   "execution_count": 44,
   "id": "8879ed64",
   "metadata": {},
   "outputs": [
    {
     "name": "stdout",
     "output_type": "stream",
     "text": [
      "0\n",
      "2\n",
      "4\n",
      "6\n",
      "8\n",
      "10\n"
     ]
    }
   ],
   "source": [
    "for num in range(0,11,2):\n",
    "    print(num)\n",
    " "
   ]
  },
  {
   "cell_type": "markdown",
   "id": "5042a7f1",
   "metadata": {},
   "source": [
    "**Question#11**\n",
    "\n",
    "**Points: 10**\n",
    "\n",
    "**Check the length of each word in the string and if the length of a word is even print \"even!\"**"
   ]
  },
  {
   "cell_type": "code",
   "execution_count": 45,
   "id": "601abac5",
   "metadata": {},
   "outputs": [
    {
     "name": "stdout",
     "output_type": "stream",
     "text": [
      "word:even!\n",
      "in:even!\n",
      "this:even!\n",
      "sentence:even!\n",
      "that:even!\n",
      "an:even!\n",
      "even:even!\n",
      "number:even!\n",
      "of:even!\n"
     ]
    }
   ],
   "source": [
    "st = 'Print every word in this sentence that has an even number of letters'\n",
    "\n",
    "#split the string into words\n",
    "\n",
    "words = st.split()\n",
    "for word in words:\n",
    "    if len(word)% 2 == 0:\n",
    "        print(f\"{word}:even!\")\n"
   ]
  },
  {
   "cell_type": "markdown",
   "id": "11472da8",
   "metadata": {},
   "source": [
    "**Question#12** \n",
    "\n",
    "**Points : 10**\n",
    "\n",
    "**Write a program that prints the integers from 1 to 100. But for multiples of three print \"3*\" instead of the number, and for the multiples of five print \"5*\". For numbers which are multiples of both three and five print \"3* 5*\".**"
   ]
  },
  {
   "cell_type": "code",
   "execution_count": 46,
   "id": "9b2ab649",
   "metadata": {},
   "outputs": [
    {
     "name": "stdout",
     "output_type": "stream",
     "text": [
      "1\n",
      "2\n",
      "3*\n",
      "4\n",
      "5*\n",
      "3*\n",
      "7\n",
      "8\n",
      "3*\n",
      "5*\n",
      "11\n",
      "3*\n",
      "13\n",
      "14\n",
      "3* 5*\n",
      "16\n",
      "17\n",
      "3*\n",
      "19\n",
      "5*\n",
      "3*\n",
      "22\n",
      "23\n",
      "3*\n",
      "5*\n",
      "26\n",
      "3*\n",
      "28\n",
      "29\n",
      "3* 5*\n",
      "31\n",
      "32\n",
      "3*\n",
      "34\n",
      "5*\n",
      "3*\n",
      "37\n",
      "38\n",
      "3*\n",
      "5*\n",
      "41\n",
      "3*\n",
      "43\n",
      "44\n",
      "3* 5*\n",
      "46\n",
      "47\n",
      "3*\n",
      "49\n",
      "5*\n",
      "3*\n",
      "52\n",
      "53\n",
      "3*\n",
      "5*\n",
      "56\n",
      "3*\n",
      "58\n",
      "59\n",
      "3* 5*\n",
      "61\n",
      "62\n",
      "3*\n",
      "64\n",
      "5*\n",
      "3*\n",
      "67\n",
      "68\n",
      "3*\n",
      "5*\n",
      "71\n",
      "3*\n",
      "73\n",
      "74\n",
      "3* 5*\n",
      "76\n",
      "77\n",
      "3*\n",
      "79\n",
      "5*\n",
      "3*\n",
      "82\n",
      "83\n",
      "3*\n",
      "5*\n",
      "86\n",
      "3*\n",
      "88\n",
      "89\n",
      "3* 5*\n",
      "91\n",
      "92\n",
      "3*\n",
      "94\n",
      "5*\n",
      "3*\n",
      "97\n",
      "98\n",
      "3*\n",
      "5*\n"
     ]
    }
   ],
   "source": [
    "# Iterate through numbers 1 to 100\n",
    "for num in range(1, 101):\n",
    "    # Check for multiples of both 3 and 5\n",
    "    if num % 3 == 0 and num % 5 == 0:\n",
    "        print(\"3* 5*\")\n",
    "    # Check for multiples of 3\n",
    "    elif num % 3 == 0:\n",
    "        print(\"3*\")\n",
    "    # Check for multiples of 5\n",
    "    elif num % 5 == 0:\n",
    "        print(\"5*\")\n",
    "    # If not a multiple of 3 or 5, print the number\n",
    "    else:\n",
    "        print(num)\n"
   ]
  },
  {
   "cell_type": "code",
   "execution_count": null,
   "id": "962b9bc5",
   "metadata": {},
   "outputs": [],
   "source": []
  }
 ],
 "metadata": {
  "kernelspec": {
   "display_name": "Python 3 (ipykernel)",
   "language": "python",
   "name": "python3"
  },
  "language_info": {
   "codemirror_mode": {
    "name": "ipython",
    "version": 3
   },
   "file_extension": ".py",
   "mimetype": "text/x-python",
   "name": "python",
   "nbconvert_exporter": "python",
   "pygments_lexer": "ipython3",
   "version": "3.9.13"
  }
 },
 "nbformat": 4,
 "nbformat_minor": 5
}
